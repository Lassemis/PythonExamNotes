{
 "cells": [
  {
   "cell_type": "markdown",
   "metadata": {},
   "source": [
    "# Decorators\n"
   ]
  },
  {
   "cell_type": "markdown",
   "metadata": {},
   "source": [
    "### What is a decorator?"
   ]
  },
  {
   "cell_type": "markdown",
   "metadata": {},
   "source": [
    "\"Decorator\" is the name of a pattern, where a \"decorator\" allows you to add behaviour to a class, method or function without modifying the original code of these, or their interface. \n",
    "In python decorating is usually achieved by wrapping the decorator functionality around the \"decoratee\" function. This is possible because functions can be passed along as parameters to other functions."
   ]
  },
  {
   "cell_type": "markdown",
   "metadata": {},
   "source": [
    "#### Example of function being passed as parameter:"
   ]
  },
  {
   "cell_type": "code",
   "execution_count": 1,
   "metadata": {},
   "outputs": [
    {
     "name": "stdout",
     "output_type": "stream",
     "text": [
      "This happened before the function i got passed.\n",
      "I did my thing!\n",
      "This happened after the function i got passed.\n"
     ]
    }
   ],
   "source": [
    "def doSomething():\n",
    "    print(\"I did my thing!\")\n",
    "\n",
    "def iDoSomethingBeforeAndAfter(func):\n",
    "    print(\"This happened before the function i got passed.\")\n",
    "    func()\n",
    "    print(\"This happened after the function i got passed.\")\n",
    "\n",
    "iDoSomethingBeforeAndAfter(doSomething)"
   ]
  },
  {
   "cell_type": "markdown",
   "metadata": {},
   "source": [
    "### Decorator syntax:"
   ]
  },
  {
   "cell_type": "markdown",
   "metadata": {},
   "source": [
    "This however doesn't cut it as a decorator, becuase the interface is different from the function it addds functionality to. In order to comply with the original we have to use a function wrapper. This also allows for some pretty slick syntax!"
   ]
  },
  {
   "cell_type": "code",
   "execution_count": 13,
   "metadata": {},
   "outputs": [
    {
     "name": "stdout",
     "output_type": "stream",
     "text": [
      "This happened before the function i got passed.\n",
      "I did my thing!\n",
      "This happened after the function i got passed.\n"
     ]
    }
   ],
   "source": [
    "def my_decorator(func):\n",
    "    def wrapper():\n",
    "        print(\"This happened before the function i got passed.\")\n",
    "        func()\n",
    "        print(\"This happened after the function i got passed.\")\n",
    "    return wrapper\n",
    "@my_decorator\n",
    "def doSomething():\n",
    "    print(\"I did my thing!\")\n",
    "\n",
    "doSomething()"
   ]
  },
  {
   "cell_type": "markdown",
   "metadata": {},
   "source": [
    "### Handling arguments:"
   ]
  },
  {
   "cell_type": "markdown",
   "metadata": {},
   "source": [
    "That looks pretty good! By returning an inner function, instead of just executing code, and using the @ notation on the line above the definition of the decoratee, we're able to add functionality to the decoratee without changing it's interface! That way the wrapper function is called with the decoratee everytime the decoratee is called.\n",
    "However this decorator is pretty brittle, as it wouldn't work with any functions having arguments passed to them. Lets fix it:"
   ]
  },
  {
   "cell_type": "code",
   "execution_count": 12,
   "metadata": {},
   "outputs": [
    {
     "ename": "TypeError",
     "evalue": "wrapper() takes 0 positional arguments but 1 was given",
     "output_type": "error",
     "traceback": [
      "\u001b[1;31m---------------------------------------------------------------------------\u001b[0m",
      "\u001b[1;31mTypeError\u001b[0m                                 Traceback (most recent call last)",
      "\u001b[1;32m<ipython-input-12-bd262be2bd4d>\u001b[0m in \u001b[0;36m<module>\u001b[1;34m\u001b[0m\n\u001b[0;32m      9\u001b[0m     \u001b[0mprint\u001b[0m\u001b[1;33m(\u001b[0m\u001b[0mmessage\u001b[0m\u001b[1;33m)\u001b[0m\u001b[1;33m\u001b[0m\u001b[1;33m\u001b[0m\u001b[0m\n\u001b[0;32m     10\u001b[0m \u001b[1;33m\u001b[0m\u001b[0m\n\u001b[1;32m---> 11\u001b[1;33m \u001b[0mdoSomething\u001b[0m\u001b[1;33m(\u001b[0m\u001b[1;34m\"hi\"\u001b[0m\u001b[1;33m)\u001b[0m\u001b[1;33m\u001b[0m\u001b[1;33m\u001b[0m\u001b[0m\n\u001b[0m",
      "\u001b[1;31mTypeError\u001b[0m: wrapper() takes 0 positional arguments but 1 was given"
     ]
    }
   ],
   "source": [
    "def my_decorator(func):\n",
    "    def wrapper():\n",
    "        print(\"This happened before the function i got passed.\")\n",
    "        func()\n",
    "        print(\"This happened after the function i got passed.\")\n",
    "    return wrapper\n",
    "@my_decorator\n",
    "def doSomething(message):\n",
    "    print(message)\n",
    "\n",
    "doSomething(\"Hi\")"
   ]
  },
  {
   "cell_type": "markdown",
   "metadata": {},
   "source": [
    "This can be fixed adding \\*args and \\*\\*kwargs as paramaters of the wrapper and the func() call:"
   ]
  },
  {
   "cell_type": "code",
   "execution_count": 1,
   "metadata": {},
   "outputs": [
    {
     "name": "stdout",
     "output_type": "stream",
     "text": [
      "This happened before the function i got passed.\n",
      "Hi\n",
      "This happened after the function i got passed.\n"
     ]
    }
   ],
   "source": [
    "def my_decorator(func):\n",
    "    def wrapper(*args, **kwargs):\n",
    "        print(\"This happened before the function i got passed.\")\n",
    "        func(*args,**kwargs)\n",
    "        print(\"This happened after the function i got passed.\")\n",
    "    return wrapper\n",
    "@my_decorator\n",
    "def doSomething(message):\n",
    "    print(message)\n",
    "\n",
    "doSomething(\"Hi\")"
   ]
  },
  {
   "cell_type": "markdown",
   "metadata": {},
   "source": [
    "### Returning values:"
   ]
  },
  {
   "cell_type": "markdown",
   "metadata": {},
   "source": [
    "This still not perfect though! If the decoratee returns a value we currently won't be receiving it!"
   ]
  },
  {
   "cell_type": "code",
   "execution_count": 18,
   "metadata": {},
   "outputs": [
    {
     "name": "stdout",
     "output_type": "stream",
     "text": [
      "This happened before the function i got passed.\n",
      "hi\n",
      "This happened after the function i got passed.\n"
     ]
    },
    {
     "data": {
      "text/plain": [
       "NoneType"
      ]
     },
     "execution_count": 18,
     "metadata": {},
     "output_type": "execute_result"
    }
   ],
   "source": [
    "def my_decorator(func):\n",
    "    def wrapper(*args, **kwargs):\n",
    "        print(\"This happened before the function i got passed.\")\n",
    "        func(*args,**kwargs)\n",
    "        print(\"This happened after the function i got passed.\")\n",
    "    return wrapper\n",
    "@my_decorator\n",
    "def doSomething(message):\n",
    "    print(message)\n",
    "    return len(message)\n",
    "\n",
    "type(doSomething(\"Hi\"))"
   ]
  },
  {
   "cell_type": "markdown",
   "metadata": {},
   "source": [
    "That sholuld've been an int! However the wrapper never returns the length of the message. Let's change that!"
   ]
  },
  {
   "cell_type": "code",
   "execution_count": 27,
   "metadata": {},
   "outputs": [
    {
     "name": "stdout",
     "output_type": "stream",
     "text": [
      "This happened before the function i got passed.\n",
      "hi\n",
      "This happened after the function i got passed.\n",
      "hi\n"
     ]
    },
    {
     "data": {
      "text/plain": [
       "int"
      ]
     },
     "execution_count": 27,
     "metadata": {},
     "output_type": "execute_result"
    }
   ],
   "source": [
    "def my_decorator(func):\n",
    "    def wrapper(*args, **kwargs):\n",
    "        print(\"This happened before the function i got passed.\")\n",
    "        func(*args,**kwargs)\n",
    "        print(\"This happened after the function i got passed.\")\n",
    "        return func(*args,**kwargs)\n",
    "    return wrapper\n",
    "@my_decorator\n",
    "def doSomething(message):\n",
    "    print(message)\n",
    "    return len(message)\n",
    "\n",
    "type(doSomething(\"Hi\"))"
   ]
  },
  {
   "cell_type": "markdown",
   "metadata": {},
   "source": [
    "Keep in mind that the return statement will be the last thing excuted, so all your decorator behaviour should be before the return statement. In this example it causes the message to be printed twice, becuase i want to keep the second print from the decorator, so the decoratee gets called twice, first when it's called between the 2 prints, and another time when it returns it's value."
   ]
  },
  {
   "cell_type": "markdown",
   "metadata": {},
   "source": [
    "### Introspection:\n",
    "Our current decorator does confuse our doSomething function quite a bit though! It currently thinks that it is a wrapper."
   ]
  },
  {
   "cell_type": "code",
   "execution_count": 30,
   "metadata": {},
   "outputs": [
    {
     "name": "stdout",
     "output_type": "stream",
     "text": [
      "Help on function wrapper in module __main__:\n",
      "\n",
      "wrapper(*args, **kwargs)\n",
      "\n"
     ]
    }
   ],
   "source": [
    "help(doSomething)"
   ]
  },
  {
   "cell_type": "markdown",
   "metadata": {},
   "source": [
    "In order to fix this introspection issue we will have to use the modul functools."
   ]
  },
  {
   "cell_type": "code",
   "execution_count": 32,
   "metadata": {},
   "outputs": [
    {
     "name": "stdout",
     "output_type": "stream",
     "text": [
      "Help on function doSomething in module __main__:\n",
      "\n",
      "doSomething(message)\n",
      "\n"
     ]
    }
   ],
   "source": [
    "import functools\n",
    "\n",
    "def my_decorator(func):\n",
    "    @functools.wraps(func)\n",
    "    def wrapper(*args, **kwargs):\n",
    "        print(\"This happened before the function i got passed.\")\n",
    "        func(*args,**kwargs)\n",
    "        print(\"This happened after the function i got passed.\")\n",
    "        return func(*args,**kwargs)\n",
    "    return wrapper\n",
    "@my_decorator\n",
    "def doSomething(message):\n",
    "    print(message)\n",
    "    return len(message)\n",
    "\n",
    "help(doSomething)"
   ]
  },
  {
   "cell_type": "markdown",
   "metadata": {},
   "source": [
    "Using the @functools.wraps(func) decorator from the functools module we make sure that the wrappers meta data is the same as the function it is decorating, and thereby ensuring that doSomething doesn't think it's a wrapper!"
   ]
  },
  {
   "cell_type": "markdown",
   "metadata": {},
   "source": [
    "## Plug-in structure\n",
    "Decorators don't need to add functionality to the functions they're decorating. They can also just add something to a list, dict or namespace. These kind of decorators can enable a light weight plug-in structure.\n",
    "### Plug-in example:\n"
   ]
  },
  {
   "cell_type": "code",
   "execution_count": 33,
   "metadata": {},
   "outputs": [
    {
     "data": {
      "text/plain": [
       "{'add': <function __main__.add(a, b)>,\n",
       " 'sub': <function __main__.sub(a, b)>,\n",
       " 'mult': <function __main__.mult(a, b)>}"
      ]
     },
     "execution_count": 33,
     "metadata": {},
     "output_type": "execute_result"
    }
   ],
   "source": [
    "PLUGIN_OPERATION=dict()\n",
    "\n",
    "def register(func):\n",
    "    PLUGIN_OPERATION[func.__name__]=func\n",
    "    return func\n",
    "\n",
    "@register\n",
    "def add(a,b):\n",
    "    return a+b\n",
    "@register\n",
    "def sub(a,b):\n",
    "    return a-b\n",
    "@register\n",
    "def mult(a,b):\n",
    "    return a*b\n",
    "\n",
    "PLUGIN_OPERATION"
   ]
  },
  {
   "cell_type": "markdown",
   "metadata": {},
   "source": [
    "By decorating the add, sub and mult function with register, they automaticly gets added to the plug-in dictionary! Now we can access the operation from the dict, using the function names as keys."
   ]
  },
  {
   "cell_type": "code",
   "execution_count": 36,
   "metadata": {},
   "outputs": [
    {
     "data": {
      "text/plain": [
       "5"
      ]
     },
     "execution_count": 36,
     "metadata": {},
     "output_type": "execute_result"
    }
   ],
   "source": [
    "add_func=PLUGIN_OPERATION.get(\"add\",\"\")\n",
    "add_func(2,3)"
   ]
  },
  {
   "cell_type": "code",
   "execution_count": null,
   "metadata": {},
   "outputs": [],
   "source": []
  }
 ],
 "metadata": {
  "kernelspec": {
   "display_name": "Python 3",
   "language": "python",
   "name": "python3"
  },
  "language_info": {
   "codemirror_mode": {
    "name": "ipython",
    "version": 3
   },
   "file_extension": ".py",
   "mimetype": "text/x-python",
   "name": "python",
   "nbconvert_exporter": "python",
   "pygments_lexer": "ipython3",
   "version": "3.7.4"
  }
 },
 "nbformat": 4,
 "nbformat_minor": 2
}
