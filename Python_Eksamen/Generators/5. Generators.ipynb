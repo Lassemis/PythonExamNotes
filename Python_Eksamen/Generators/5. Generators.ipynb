{
 "cells": [
  {
   "cell_type": "markdown",
   "metadata": {},
   "source": [
    "# Generators\n",
    "A genertator function is a function that uses the \"yield\" expression and returns a generator object when called.\n",
    "#### Example:\n",
    "A very simple generator function."
   ]
  },
  {
   "cell_type": "code",
   "execution_count": 19,
   "metadata": {},
   "outputs": [],
   "source": [
    "# A simple generator function that  prints a message and a number that get incremented on each call.\n",
    "def my_gen():\n",
    "    n = 1\n",
    "    print('This is printed first')\n",
    "    print(n)\n",
    "    yield n\n",
    "    \n",
    "    n += 1\n",
    "    print('This is printed second')\n",
    "    print(n)\n",
    "    yield n\n",
    "\n",
    "    n += 1\n",
    "    print('This is printed at last')\n",
    "    \n",
    "    yield n"
   ]
  },
  {
   "cell_type": "markdown",
   "metadata": {},
   "source": [
    "### The yield statement:\n",
    "Yield works like peculiar kind of \"return\", by \"returning\" and stopping execution of the function after it's called. Unlike return, the functions internal state is preserved after yielding a value. It also causes the function to return a generator object when called."
   ]
  },
  {
   "cell_type": "code",
   "execution_count": 20,
   "metadata": {},
   "outputs": [
    {
     "data": {
      "text/plain": [
       "<generator object my_gen at 0x00726FB0>"
      ]
     },
     "execution_count": 20,
     "metadata": {},
     "output_type": "execute_result"
    }
   ],
   "source": [
    "my_gen()"
   ]
  },
  {
   "cell_type": "markdown",
   "metadata": {},
   "source": [
    "### Iterating through the generator object:\n",
    "The generator object is an iterable, meaning it implements \\_\\_next\\_\\_ protocol. That means we're able to call next() with the generator as the parameter to iterate through it."
   ]
  },
  {
   "cell_type": "code",
   "execution_count": 23,
   "metadata": {},
   "outputs": [
    {
     "name": "stdout",
     "output_type": "stream",
     "text": [
      "This is printed first\n",
      "1\n",
      "This is printed second\n",
      "2\n",
      "This is printed at last\n"
     ]
    },
    {
     "ename": "StopIteration",
     "evalue": "",
     "output_type": "error",
     "traceback": [
      "\u001b[1;31m---------------------------------------------------------------------------\u001b[0m",
      "\u001b[1;31mStopIteration\u001b[0m                             Traceback (most recent call last)",
      "\u001b[1;32m<ipython-input-23-56aaf261604b>\u001b[0m in \u001b[0;36m<module>\u001b[1;34m\u001b[0m\n\u001b[0;32m      4\u001b[0m \u001b[0mnext\u001b[0m\u001b[1;33m(\u001b[0m\u001b[0mx\u001b[0m\u001b[1;33m)\u001b[0m\u001b[1;33m\u001b[0m\u001b[1;33m\u001b[0m\u001b[0m\n\u001b[0;32m      5\u001b[0m \u001b[1;31m#There is no yield statement after the third, so the next will raise a \"stop iteration\"\u001b[0m\u001b[1;33m\u001b[0m\u001b[1;33m\u001b[0m\u001b[1;33m\u001b[0m\u001b[0m\n\u001b[1;32m----> 6\u001b[1;33m \u001b[0mnext\u001b[0m\u001b[1;33m(\u001b[0m\u001b[0mx\u001b[0m\u001b[1;33m)\u001b[0m\u001b[1;33m\u001b[0m\u001b[1;33m\u001b[0m\u001b[0m\n\u001b[0m",
      "\u001b[1;31mStopIteration\u001b[0m: "
     ]
    }
   ],
   "source": [
    "x=my_gen()\n",
    "next(x)\n",
    "next(x)\n",
    "next(x)\n",
    "#There is no yield statement after the third, so the next will raise a \"stop iteration\" traceback\n",
    "next(x)"
   ]
  },
  {
   "cell_type": "markdown",
   "metadata": {},
   "source": [
    "### Generator comprehensions:\n",
    "Generators can also be created by using a syntax much alike list comprehensions. You just swap out the brackets wth parantheses."
   ]
  },
  {
   "cell_type": "code",
   "execution_count": 25,
   "metadata": {},
   "outputs": [
    {
     "data": {
      "text/plain": [
       "3600"
      ]
     },
     "execution_count": 25,
     "metadata": {},
     "output_type": "execute_result"
    }
   ],
   "source": [
    "alice_gen= (row for row in open(\"alice.txt\"))\n",
    "#generator doesn't implement the __len__ protocol, so you have to itereate through the generator in order to determine\n",
    "#the length of it. luckily it can still be looped through becuase it is an iterable.\n",
    "sum(1 for x in alice_gen)"
   ]
  },
  {
   "cell_type": "markdown",
   "metadata": {},
   "source": [
    "## Generators vs. lists:\n",
    "\n",
    "Pros:\n",
    "Memory efficiency\n",
    "\n",
    "Cons:\n",
    "No random access\n"
   ]
  },
  {
   "cell_type": "markdown",
   "metadata": {},
   "source": [
    "#### Example:\n",
    "using sys.getsizeof() to measure the size of the objects in bytes"
   ]
  },
  {
   "cell_type": "code",
   "execution_count": 22,
   "metadata": {},
   "outputs": [
    {
     "name": "stdout",
     "output_type": "stream",
     "text": [
      "Test generator object size:64\n",
      "Test list object size:43816\n",
      "Very big test generator object size:64\n",
      "Very small test generator object size:64\n"
     ]
    }
   ],
   "source": [
    "import sys\n",
    "\n",
    "test_gen= (row for row in range(10000))\n",
    "test_list= [row for row in range(10000)]\n",
    "very_big_test_gen= (row for row in range(10000000000000))\n",
    "very_small_test_gen= (row for row in range(1))\n",
    "print(\"Test generator object size:%s\" %sys.getsizeof(test_gen))\n",
    "print(\"Test list object size:%s\" %sys.getsizeof(test_list))\n",
    "print(\"Very big test generator object size:%s\" %sys.getsizeof(very_big_test_gen))\n",
    "print(\"Very small test generator object size:%s\" %sys.getsizeof(very_small_test_gen))"
   ]
  },
  {
   "cell_type": "markdown",
   "metadata": {},
   "source": [
    "As demonstrated above, the size of the generator object remains the same no matter the size of data set. Thus they should be used when just want to iterate over very large amounts of data without taxing your memory."
   ]
  },
  {
   "cell_type": "code",
   "execution_count": null,
   "metadata": {},
   "outputs": [],
   "source": []
  }
 ],
 "metadata": {
  "kernelspec": {
   "display_name": "Python 3",
   "language": "python",
   "name": "python3"
  },
  "language_info": {
   "codemirror_mode": {
    "name": "ipython",
    "version": 3
   },
   "file_extension": ".py",
   "mimetype": "text/x-python",
   "name": "python",
   "nbconvert_exporter": "python",
   "pygments_lexer": "ipython3",
   "version": "3.7.4"
  }
 },
 "nbformat": 4,
 "nbformat_minor": 2
}
