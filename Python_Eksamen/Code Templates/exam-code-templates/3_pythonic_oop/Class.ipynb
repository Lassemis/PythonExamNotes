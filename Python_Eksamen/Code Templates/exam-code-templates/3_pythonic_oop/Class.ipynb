{
 "cells": [
  {
   "cell_type": "markdown",
   "metadata": {},
   "source": [
    "# Classes"
   ]
  },
  {
   "cell_type": "code",
   "execution_count": 47,
   "metadata": {},
   "outputs": [],
   "source": [
    "class Employee:\n",
    "    def __init__(self, name, x, *args):\n",
    "         \n",
    "        self.__name = name\n",
    "        self.x = x\n",
    "        \n",
    "        if len(args) > 0:\n",
    "            self.salary = args[0]\n",
    "            company = args[1]\n",
    "    \n",
    "    def __repr__(self):\n",
    "        return f'{self.__dict__}'\n",
    "    \n",
    "    def __str__(self):\n",
    "        return f'{self.__name},  {self.salary}' \n",
    "    \n",
    "    \n",
    "    @property\n",
    "    def x(self):\n",
    "        return self.__x \n",
    "    \n",
    "    @x.setter\n",
    "    def x(self, x):     \n",
    "        if x > 1000:\n",
    "            self.__x = 1000\n",
    "        elif x < 0:\n",
    "            self.__x = 0\n",
    "        else:\n",
    "            self.__x = x\n",
    "    \n",
    "        "
   ]
  },
  {
   "cell_type": "code",
   "execution_count": 48,
   "metadata": {},
   "outputs": [],
   "source": [
    "class Secretary(Employee):\n",
    "    \n",
    "    def __init__(self, name, x ,salary, company, vacation):\n",
    "        super().__init__(name, x, salary, company)\n",
    "        self.vacation = vacation"
   ]
  }
 ],
 "metadata": {
  "kernelspec": {
   "display_name": "Python 3",
   "language": "python",
   "name": "python3"
  },
  "language_info": {
   "codemirror_mode": {
    "name": "ipython",
    "version": 3
   },
   "file_extension": ".py",
   "mimetype": "text/x-python",
   "name": "python",
   "nbconvert_exporter": "python",
   "pygments_lexer": "ipython3",
   "version": "3.7.6"
  },
  "toc": {
   "base_numbering": 1,
   "nav_menu": {},
   "number_sections": true,
   "sideBar": true,
   "skip_h1_title": true,
   "title_cell": "Table of Contents",
   "title_sidebar": "Contents",
   "toc_cell": false,
   "toc_position": {},
   "toc_section_display": true,
   "toc_window_display": false
  }
 },
 "nbformat": 4,
 "nbformat_minor": 2
}
