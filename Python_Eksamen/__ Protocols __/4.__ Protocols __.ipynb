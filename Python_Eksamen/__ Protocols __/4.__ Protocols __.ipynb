{
 "cells": [
  {
   "cell_type": "markdown",
   "metadata": {},
   "source": [
    "# Protocols"
   ]
  },
  {
   "cell_type": "markdown",
   "metadata": {},
   "source": [
    "## What is a protocol?"
   ]
  },
  {
   "cell_type": "markdown",
   "metadata": {},
   "source": [
    "Protocols are the underlying structure of how objects, the data structures, and the operators, like \"+\", \"-\" and \"%\", work.\n",
    "Whenever you get the value of an attribute of an object the \\_\\_getattribute\\_\\_ protocol or if you have traversed a list, you have relied on it implementing the \\_\\_iter\\_\\_ protocol. Protocols are what allows a lot of the \"nice\" python syntax, like being able to combine two lists by +'ing them.\n",
    "\n",
    "They can broadly be divided into two groups: \n",
    "One group consisting of being \"fancy\" ways to call specific functions/methods, like the \"+\" and \"-\".\n",
    "\n",
    "The other group being much like required methods for implementing certain \"interfaces\", like \"iterable\" or a \"context manager\". This functionality needs certain protocols to be implemented to work, like for something to be considered an \"iterable\", something that can itereated through one element at a time,  it needs to implement the  \\_\\_iter\\_\\_() protocol, which returns an iterator object, which prescribes how the object is to be iterated over."
   ]
  },
  {
   "cell_type": "markdown",
   "metadata": {},
   "source": [
    "### Example class:\n",
    "I will try to demonstrate how fundamental the protocols are in python with this simple class that will implement some protocols."
   ]
  },
  {
   "cell_type": "code",
   "execution_count": 37,
   "metadata": {},
   "outputs": [],
   "source": [
    "class sum():\n",
    "    #the protocol that allows the creation instances of the class\n",
    "    def __init__(self,value):\n",
    "        self.value=value\n",
    "    \n",
    "    #Here we're overwriting the default __setattr__ protocol, that is called everytime you set any attribute,\n",
    "    #to print out a message everytime it's called.\n",
    "    #Overwriting this one can be tricky and easily cause infinite recursion if you're not careful.\n",
    "    def __setattr__(self,name,value):\n",
    "        self.__dict__[name]=value\n",
    "        print(\"the overwritten setter got called\")\n",
    "        \n",
    "    #Here we implement the __add__ protocol, which gets called when we use the \"+\" operator on our instances.\n",
    "    #It could do anything, but in order to uphold pythonic convention for the meaning of \"+\", the behaviour in here \n",
    "    #should have something to do with-adding.\n",
    "    def __add__(self,other):\n",
    "        if type(other)==sum:\n",
    "            self.value+=other.value\n",
    "        else:\n",
    "            print(\"That 'add' functionality has not yet been implemented\")\n",
    "    #The __radd__, reflected add, protocol is used when the instance is occupying the second position on right of the \"+\"\n",
    "    #operator. This is pretty easy to implement, as we can just refer to the above \"__add__\" implmentation\n",
    "    def __radd__(self,other):\n",
    "        self+other\n",
    "        \n",
    "    \n",
    "    \n",
    "    "
   ]
  },
  {
   "cell_type": "markdown",
   "metadata": {},
   "source": [
    "So now we're given the protocols we just implemented on the \"sum\" class, we can now creat instances of it, we're now able to use the \"+\" operator to add the value of one sum to another, and every time an attribute is set, we get a printed message:"
   ]
  },
  {
   "cell_type": "code",
   "execution_count": 51,
   "metadata": {},
   "outputs": [
    {
     "name": "stdout",
     "output_type": "stream",
     "text": [
      "the overwritten setter got called\n",
      "the overwritten setter got called\n",
      "the overwritten setter got called\n",
      "43\n"
     ]
    }
   ],
   "source": [
    "a=sum(42)\n",
    "b=sum(1)\n",
    "a+b\n",
    "print(a.value)"
   ]
  },
  {
   "cell_type": "markdown",
   "metadata": {},
   "source": [
    "### Context managers \n",
    "Where the previous example showcased some of the underlying protocols at work in objects, and how to define them yourself, this example is going to show more of an \"interface\" requirement set of protocols. In the following example i will show how the \"with\" statement calls upon the \"\\_\\_enter\\_\\_\" and \"\\_\\_exit\\_\\_\" protocols outlined in a simple custom context manager:"
   ]
  },
  {
   "cell_type": "code",
   "execution_count": 49,
   "metadata": {},
   "outputs": [
    {
     "name": "stdout",
     "output_type": "stream",
     "text": [
      "opening the file...\n",
      "writing to file...\n",
      "Everything went smoothly. Closing the file!\n"
     ]
    }
   ],
   "source": [
    "class SimpleCM:\n",
    "    def __init__(self,file_name, mode):\n",
    "        self.file_name=file_name\n",
    "        self.mode=mode\n",
    "    \n",
    "    def __enter__(self):\n",
    "        self.file = open(self.file_name,self.mode)\n",
    "        print(\"opening the file...\")\n",
    "        return self.file\n",
    "    \n",
    "    def __exit__(self, exc_type, exc_value, traceback):\n",
    "        if traceback is None:\n",
    "            print(\"Everything went smoothly. Closing the file!\")\n",
    "        else:\n",
    "            print(\"Something went wrong. Closing the file\")\n",
    "        self.file.close()\n",
    "\n",
    "#Here we use the simple context manager to create a new file and write something in it. \n",
    "#\n",
    "with SimpleCM(\"example_file\",\"w\") as file:\n",
    "    print(\"writing to file...\")\n",
    "    file.write(\"Some content for the file\")\n",
    "        "
   ]
  },
  {
   "cell_type": "markdown",
   "metadata": {},
   "source": [
    "The \"\\_\\_enter\\_\\_\" and \"\\_\\_exit\\_\\_\" is executed, as well code inside the \"with statement. That means that our simple context manager \"passed\" the context manager evaluation, because it implemented the 2 necessary protocols, it then called the \"\\_\\_enter\\_\\_\" method, saved what that returned as the variable file, which we used inside the \"with\" block to wirte to the file, and after the \"with\" block finished excecuting, or if it raises an exception, it calls  the \"\\_\\_exit\\_\\_\" method, that prints a message based on whether an exception was raised or not, and then finally closes the file."
   ]
  },
  {
   "cell_type": "code",
   "execution_count": null,
   "metadata": {},
   "outputs": [],
   "source": []
  }
 ],
 "metadata": {
  "kernelspec": {
   "display_name": "Python 3",
   "language": "python",
   "name": "python3"
  },
  "language_info": {
   "codemirror_mode": {
    "name": "ipython",
    "version": 3
   },
   "file_extension": ".py",
   "mimetype": "text/x-python",
   "name": "python",
   "nbconvert_exporter": "python",
   "pygments_lexer": "ipython3",
   "version": "3.7.4"
  }
 },
 "nbformat": 4,
 "nbformat_minor": 2
}
