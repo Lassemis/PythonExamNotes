{
 "cells": [
  {
   "cell_type": "markdown",
   "metadata": {},
   "source": [
    "## Working with files"
   ]
  },
  {
   "cell_type": "markdown",
   "metadata": {},
   "source": [
    "Reading from and writing to files is pretty simple in python when using the built in function open(). The first argument of this function is the target file, which is either the one you're try to write to, create or read from. The second argument is which \"mode\" you want to access the file. help(open) is fine way to get fast overview of the different modes."
   ]
  },
  {
   "cell_type": "markdown",
   "metadata": {},
   "source": [
    "### Example \n",
    "Let's quickly create a file with the open() function, write something in it and read that."
   ]
  },
  {
   "cell_type": "code",
   "execution_count": 3,
   "metadata": {},
   "outputs": [
    {
     "data": {
      "text/plain": [
       "<function TextIOWrapper.close()>"
      ]
     },
     "execution_count": 3,
     "metadata": {},
     "output_type": "execute_result"
    }
   ],
   "source": [
    "file_write = open(\"example.txt\",\"a\")\n",
    "file_write.write(\"Hello from file!\")\n",
    "file_write.close"
   ]
  },
  {
   "cell_type": "code",
   "execution_count": 4,
   "metadata": {},
   "outputs": [
    {
     "name": "stdout",
     "output_type": "stream",
     "text": [
      "\n"
     ]
    },
    {
     "data": {
      "text/plain": [
       "<function TextIOWrapper.close()>"
      ]
     },
     "execution_count": 4,
     "metadata": {},
     "output_type": "execute_result"
    }
   ],
   "source": [
    "file_read = open(\"example.txt\",\"r\")\n",
    "message = file_read.read()\n",
    "print(message)\n",
    "file_read.close"
   ]
  },
  {
   "cell_type": "markdown",
   "metadata": {},
   "source": [
    "In these two code snippets i close the file objects manually, which is important in order to avoid resource leaks and other unwanted shenanigans. If it should have been completely by the book, the reading and writing of the file should have been in a try block, and the file closing should have been in a finally block, in order to make sure that the file would be closed even if exceptions were raised during execution or something else interrupted the program flow.\n",
    "But that is a little bit cumbersome to write and python luckily has a pretty snazzy way of handling that! "
   ]
  },
  {
   "cell_type": "markdown",
   "metadata": {},
   "source": [
    "### Context managers: Managing resources\n",
    "Using the \"with\" statement when accessing the file you be instantiate a \"context manager\" that will manage closing the file after you're done with it.\n",
    "#### Example:\n",
    "Reading file with context manager"
   ]
  },
  {
   "cell_type": "code",
   "execution_count": 5,
   "metadata": {},
   "outputs": [
    {
     "name": "stdout",
     "output_type": "stream",
     "text": [
      "\n"
     ]
    }
   ],
   "source": [
    "# The \"with\" keyword is how we tell the interpreter that we want to open the file with context manager\n",
    "with open(\"example.txt\",\"r\") as managed_file_read:\n",
    "    #this is the block where we do what we want with the file's content. after this is done executing the context manager will\n",
    "    #close this file for us\n",
    "    message = managed_file_read.read()\n",
    "    print(message)"
   ]
  },
  {
   "cell_type": "markdown",
   "metadata": {},
   "source": [
    "### Under the hood:\n",
    "How  does it work? First the exspression is evaluated, where it get's checked whether it implements the \\_\\_enter\\_\\_ and \\_\\_exit\\_\\_ protcols, if it does the evaluation will result in a context manager object. This object's \\_\\_enter\\_\\_ method is the called, which should return the resource, in this case a file object, after which the content of the code block is executed. If the execution of that is interrupted or completed the context manager's \\_\\_exit\\_\\_ will the be called.\n",
    "This means it's possible to create our own custom context managers\n",
    "#### Example:"
   ]
  },
  {
   "cell_type": "code",
   "execution_count": 6,
   "metadata": {},
   "outputs": [
    {
     "name": "stdout",
     "output_type": "stream",
     "text": [
      "Printed from __enter__()\n",
      "\n",
      "Printed from __exit__()\n"
     ]
    }
   ],
   "source": [
    "from contextlib import ContextDecorator\n",
    "\n",
    "class custom_manager(ContextDecorator):\n",
    "     \n",
    "    def __init__(self, file_path,mode):\n",
    "        self.__path = file_path\n",
    "        self.__mode = mode\n",
    "        self.__file_object = None\n",
    "    \n",
    "    def __enter__(self):\n",
    "        print(\"Printed from __enter__()\")\n",
    "        self.__file_object = open(self.__path, self.__mode)\n",
    "        return  self.__file_object\n",
    "\n",
    "    #the extra arguments in thhe __exit__ protocol is used to pass eventual exceptions thrown during execution to the __exit__\n",
    "    # method.\n",
    "    def __exit__(self, type, val, tb):\n",
    "        print(\"Printed from __exit__()\")\n",
    "        self.__file_object.close()\n",
    "    \n",
    "\n",
    "with custom_manager(\"example.txt\",\"r\") as managed_file_read:\n",
    "    message = managed_file_read.read()\n",
    "    print(message)"
   ]
  },
  {
   "cell_type": "markdown",
   "metadata": {},
   "source": [
    "This example is little bit silly, basicly tacking on some prints to the file object's functions. Connecting to a database where you need a lot of set up in order to get a working connection would make more sense."
   ]
  },
  {
   "cell_type": "markdown",
   "metadata": {},
   "source": [
    "### Context manager by decoration:\n",
    "That was quite a bit of code to just, coding an entire class,  make a custom context manager. Luckily there's an easier way make one with the module contextlib!\n",
    "### Example:"
   ]
  },
  {
   "cell_type": "code",
   "execution_count": 7,
   "metadata": {},
   "outputs": [
    {
     "name": "stdout",
     "output_type": "stream",
     "text": [
      "Printed from the try-block\n",
      "\n",
      "Printed from finally block\n"
     ]
    }
   ],
   "source": [
    "from contextlib import contextmanager\n",
    "\n",
    "@contextmanager\n",
    "def decorated_manager(file_name,mode):\n",
    "    #Setup\n",
    "    file= open(file_name,mode)\n",
    "    print(\"Printed from the try-block\")\n",
    "    #Returning the resource\n",
    "    try:\n",
    "        yield file\n",
    "    \n",
    "    #Clean up\n",
    "    finally:\n",
    "        print(\"Printed from finally block\")\n",
    "        file.close()\n",
    "\n",
    "with decorated_manager(\"example.txt\",\"r\") as managed_file_read:\n",
    "    message = managed_file_read.read()\n",
    "    print(message)"
   ]
  },
  {
   "cell_type": "markdown",
   "metadata": {},
   "source": [
    "Here we get a context manager by putting everything we did in the \\_\\_enter\\_\\_ method, except for retuning the resource, before the try block, yielding the resource is the try block and then putting the clean up tasks from the \\_\\_exit\\_\\_ method in finally block, and the decorating the function with @contextmanager"
   ]
  },
  {
   "cell_type": "markdown",
   "metadata": {},
   "source": [
    "## Reading and writing Json to and from files:\n",
    "Python has native support for reading and writing Json objects to and from files. By importing the json module you gain access to functionality to \"dump\" or \"load\" json."
   ]
  },
  {
   "cell_type": "code",
   "execution_count": 8,
   "metadata": {},
   "outputs": [
    {
     "name": "stdout",
     "output_type": "stream",
     "text": [
      "{\"album\": {\"name\": \"Home Dead(EP)\", \"artist\": \"Kashmir\", \"tracks\": [\"Undisturbed\", \"Home Dead\", \"The Ghots Of No One\", \"Miss You\", \"Just A Phase\", \"Mom In Love, Daddy In Space\"], \"year of release\": 2001}}\n"
     ]
    }
   ],
   "source": [
    "import json\n",
    "#Data,a dict to be exact, to be saved as a json object in a file\n",
    "album= {\n",
    "    \"album\":{\n",
    "        \"name\":\"Home Dead(EP)\",\n",
    "        \"artist\":\"Kashmir\",\n",
    "        \"tracks\":[\"Undisturbed\",\"Home Dead\", \"The Ghots Of No One\",\"Miss You\", \"Just A Phase\", \"Mom In Love, Daddy In Space\"],\n",
    "        \"year of release\": 2001\n",
    "        \n",
    "    }\n",
    "}\n",
    "\n",
    "with open(\"album_file.json\",\"w\") as write_file:\n",
    "    json.dump(album,write_file)\n",
    "    print(json.dumps(album))\n"
   ]
  },
  {
   "cell_type": "markdown",
   "metadata": {},
   "source": [
    "#### Serializing:\n",
    "The json.dump method serializes the album dict into a json object, and saves it to the file passed as the second argument. The Json.dumps just serializes the dict and returns it as string representation of the Json object.\n",
    "#### Deserializing:\n",
    "The json.load method deserializes the json object from the fil into a python dictionary, meaning that dictionary methods are callable on the return value of the method. the json.loads method deserializes a json formatted string into the corresponding pyton object\n",
    "#### Example:"
   ]
  },
  {
   "cell_type": "code",
   "execution_count": 9,
   "metadata": {},
   "outputs": [
    {
     "name": "stdout",
     "output_type": "stream",
     "text": [
      "Kashmir\n"
     ]
    }
   ],
   "source": [
    "with open(\"album_file.json\",\"r\") as read_file:\n",
    "    data = json.load(read_file)\n",
    "    #Using the dict method to extract the artist value from the nested dictionary\n",
    "    print(data.get(\"album\").get(\"artist\"))"
   ]
  },
  {
   "cell_type": "code",
   "execution_count": null,
   "metadata": {},
   "outputs": [],
   "source": []
  }
 ],
 "metadata": {
  "kernelspec": {
   "display_name": "Python 3",
   "language": "python",
   "name": "python3"
  },
  "language_info": {
   "codemirror_mode": {
    "name": "ipython",
    "version": 3
   },
   "file_extension": ".py",
   "mimetype": "text/x-python",
   "name": "python",
   "nbconvert_exporter": "python",
   "pygments_lexer": "ipython3",
   "version": "3.7.4"
  }
 },
 "nbformat": 4,
 "nbformat_minor": 2
}
