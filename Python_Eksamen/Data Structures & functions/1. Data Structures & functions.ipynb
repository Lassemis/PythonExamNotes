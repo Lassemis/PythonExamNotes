{
 "cells": [
  {
   "cell_type": "markdown",
   "metadata": {},
   "source": [
    "## Data Structures:"
   ]
  },
  {
   "cell_type": "markdown",
   "metadata": {},
   "source": [
    "Declaring Lists,tuples,sets and dictionaries:"
   ]
  },
  {
   "cell_type": "code",
   "execution_count": 2,
   "metadata": {},
   "outputs": [],
   "source": [
    "exampleList=[1,2,3,4,5]\n",
    "exampleTuple=(1,2,3,4,5)\n",
    "exampleSet={1,2,3,4,5}\n",
    "exampleDictionary={\"key\":\"value\", \"knees weak\":\"hands heavy\"}"
   ]
  },
  {
   "cell_type": "code",
   "execution_count": 3,
   "metadata": {},
   "outputs": [
    {
     "data": {
      "text/plain": [
       "'hands heavy'"
      ]
     },
     "execution_count": 3,
     "metadata": {},
     "output_type": "execute_result"
    }
   ],
   "source": [
    "type(exampleList)\n",
    "exampleDictionary.get(\"knees weak\")"
   ]
  },
  {
   "cell_type": "markdown",
   "metadata": {},
   "source": [
    "### Characteristics of the data structures:"
   ]
  },
  {
   "cell_type": "markdown",
   "metadata": {},
   "source": [
    "List: indexeded and changeable.\n",
    "\n",
    "Tuple: indexed and unchangeable.\n",
    "\n",
    "Sets: no duplicates and unordered.\n",
    "\n",
    "Dictionary: a set of keys, where each key is related to a value."
   ]
  },
  {
   "cell_type": "code",
   "execution_count": 4,
   "metadata": {},
   "outputs": [
    {
     "data": {
      "text/plain": [
       "5"
      ]
     },
     "execution_count": 4,
     "metadata": {},
     "output_type": "execute_result"
    }
   ],
   "source": [
    "exampleSet.add(1)\n",
    "len(exampleSet)"
   ]
  },
  {
   "cell_type": "markdown",
   "metadata": {},
   "source": [
    "It is possible to convert one of these to another one by using the built in functions (except for dictionaries):"
   ]
  },
  {
   "cell_type": "code",
   "execution_count": 5,
   "metadata": {},
   "outputs": [
    {
     "name": "stdout",
     "output_type": "stream",
     "text": [
      "{1, 2, 3}\n"
     ]
    },
    {
     "data": {
      "text/plain": [
       "set"
      ]
     },
     "execution_count": 5,
     "metadata": {},
     "output_type": "execute_result"
    }
   ],
   "source": [
    "t=(1,2,3,3)\n",
    "conversion = set(t)\n",
    "print(conversion)\n",
    "type(conversion)"
   ]
  },
  {
   "cell_type": "markdown",
   "metadata": {},
   "source": [
    "## Comprehensions"
   ]
  },
  {
   "cell_type": "markdown",
   "metadata": {},
   "source": [
    "Another way to define Lists,sets and dictionaries is by using a comprehension.\n",
    "The basic scheme for declaring a comprhension is :\n",
    "\n",
    "new_list = [expression for member in iterable]"
   ]
  },
  {
   "cell_type": "code",
   "execution_count": 6,
   "metadata": {},
   "outputs": [
    {
     "name": "stdout",
     "output_type": "stream",
     "text": [
      "[1, 2, 3, 4]\n"
     ]
    }
   ],
   "source": [
    "#a concrete example:\n",
    "comList=[x for x in range(1,5)]\n",
    "print(comList)"
   ]
  },
  {
   "cell_type": "markdown",
   "metadata": {},
   "source": [
    "By declaring a conditional after the iterable in the comprehnsion, you can filter which members of the iterable that should be added to the list.\n",
    "\n",
    "Abstract scheme:\n",
    "\n",
    "new_list = [expression for member in iterable (if conditional)]"
   ]
  },
  {
   "cell_type": "code",
   "execution_count": 7,
   "metadata": {},
   "outputs": [
    {
     "name": "stdout",
     "output_type": "stream",
     "text": [
      "[2, 4]\n"
     ]
    }
   ],
   "source": [
    "#a concrete example:\n",
    "comList=[x for x in range(1,5) if x%2==0]\n",
    "print(comList)"
   ]
  },
  {
   "cell_type": "markdown",
   "metadata": {},
   "source": [
    "If you would want to change specific parts instead of just filtering them out, you can change the placement of the \"(if conditional)\" to before the \"for member\" part of the of the comrpehension, and insert logic specifying what the value should be if doesn't pass the \" if conditional\".\n",
    "\n",
    "Abstract scheme:\n",
    "\n",
    "new_list = [expression (if conditional) for member in iterable]"
   ]
  },
  {
   "cell_type": "code",
   "execution_count": 8,
   "metadata": {},
   "outputs": [
    {
     "name": "stdout",
     "output_type": "stream",
     "text": [
      "['un-even', 2, 'un-even', 4]\n"
     ]
    }
   ],
   "source": [
    "#a concrete example:\n",
    "comList=[x if x%2==0 else \"un-even\" for x in range(1,5) ]\n",
    "print(comList)"
   ]
  },
  {
   "cell_type": "markdown",
   "metadata": {},
   "source": [
    "### Why comprehensions?"
   ]
  },
  {
   "cell_type": "markdown",
   "metadata": {},
   "source": [
    "####  Pros:\n",
    "\n",
    "Easy to declare.\n",
    "\n",
    "Very readable.\n",
    "\n",
    "Easy filtering.\n",
    "\n",
    "Fast.\n",
    "\n",
    "#### Cons:\n",
    "\n",
    "Nested comprehensions are not very readable.\n",
    "\n",
    "\"All at once\" memory allocation causes issues with big data sets."
   ]
  },
  {
   "cell_type": "markdown",
   "metadata": {},
   "source": [
    "# Functions"
   ]
  },
  {
   "cell_type": "markdown",
   "metadata": {},
   "source": [
    "Declaring a function:"
   ]
  },
  {
   "cell_type": "code",
   "execution_count": 9,
   "metadata": {},
   "outputs": [
    {
     "name": "stdout",
     "output_type": "stream",
     "text": [
      "I did my thing!\n"
     ]
    }
   ],
   "source": [
    "def doSomething():\n",
    "    print(\"I did my thing!\")\n",
    "\n",
    "doSomething()"
   ]
  },
  {
   "cell_type": "markdown",
   "metadata": {},
   "source": [
    "Functions in python can, like objects, be passed to functions as paramaters or returned. "
   ]
  },
  {
   "cell_type": "code",
   "execution_count": 10,
   "metadata": {},
   "outputs": [
    {
     "name": "stdout",
     "output_type": "stream",
     "text": [
      "This happened before the function i got passed.\n",
      "I did my thing!\n",
      "This happened after the function i got passed.\n"
     ]
    }
   ],
   "source": [
    "def iDoSomethingBeforeAndAfter(func):\n",
    "    print(\"This happened before the function i got passed.\")\n",
    "    func()\n",
    "    print(\"This happened after the function i got passed.\")\n",
    "\n",
    "iDoSomethingBeforeAndAfter(doSomething)\n",
    " "
   ]
  },
  {
   "cell_type": "markdown",
   "metadata": {},
   "source": [
    "This, passing functions to other functions, is what allows decorating. The syntax for actual decorators is slightly different from this, but it is the same principle."
   ]
  },
  {
   "cell_type": "code",
   "execution_count": 11,
   "metadata": {},
   "outputs": [
    {
     "name": "stdout",
     "output_type": "stream",
     "text": [
      "This happened before the function i got passed.\n",
      "I did my thing!\n",
      "This happened after the function i got passed.\n"
     ]
    }
   ],
   "source": [
    "#proper decorator syntax:\n",
    "def my_decorator(func):\n",
    "    def wrapper():\n",
    "        print(\"This happened before the function i got passed.\")\n",
    "        func()\n",
    "        print(\"This happened after the function i got passed.\")\n",
    "    return wrapper\n",
    "@my_decorator\n",
    "def doSomething():\n",
    "    print(\"I did my thing!\")\n",
    "\n",
    "doSomething()\n"
   ]
  },
  {
   "cell_type": "code",
   "execution_count": null,
   "metadata": {},
   "outputs": [],
   "source": []
  }
 ],
 "metadata": {
  "kernelspec": {
   "display_name": "Python 3",
   "language": "python",
   "name": "python3"
  },
  "language_info": {
   "codemirror_mode": {
    "name": "ipython",
    "version": 3
   },
   "file_extension": ".py",
   "mimetype": "text/x-python",
   "name": "python",
   "nbconvert_exporter": "python",
   "pygments_lexer": "ipython3",
   "version": "3.7.4"
  }
 },
 "nbformat": 4,
 "nbformat_minor": 2
}
